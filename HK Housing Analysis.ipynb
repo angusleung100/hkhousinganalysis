{
 "cells": [
  {
   "cell_type": "markdown",
   "metadata": {},
   "source": [
    "# HK Housing Analysis"
   ]
  },
  {
   "cell_type": "markdown",
   "metadata": {},
   "source": [
    "## Introduction\n",
    "\n",
    "Hong Kong is home to one of the most expensive housing markets in the world. "
   ]
  },
  {
   "cell_type": "markdown",
   "metadata": {},
   "source": [
    "## Data Sources\n",
    "- [Hong Kong Monetary Authority (HKMA)](https://www.hkma.gov.hk/)\n",
    "- [Ratings and Valuation Department (RVD)](https://www.rvd.gov.hk/)\n",
    "- [Census and Statistics Department (Censtatd)](https://www.censtatd.gov.hk/home.html)"
   ]
  },
  {
   "cell_type": "code",
   "execution_count": 1,
   "metadata": {},
   "outputs": [],
   "source": [
    "# Prerequisites\n",
    "import pandas as panda\n",
    "import pymysql\n",
    "\n",
    "# Create database connection\n",
    "host = \"localhost\";\n",
    "database = \"hkhousinganalysis\";\n",
    "username = \"root\";\n",
    "password = \"\";\n",
    "\n",
    "connection = pymysql.connect(host=host, user=username, password=password, db=database)\n",
    "\n",
    "cursor = connection.cursor()"
   ]
  },
  {
   "cell_type": "markdown",
   "metadata": {},
   "source": [
    "## Consumer Price Index Performance\n",
    "\n",
    "Below charts the CPI performance in Hong Kong."
   ]
  },
  {
   "cell_type": "code",
   "execution_count": 2,
   "metadata": {
    "scrolled": false
   },
   "outputs": [
    {
     "name": "stdout",
     "output_type": "stream",
     "text": [
      "(('1975', '', ''), ('1976', '', ''), ('1977', '', ''), ('1978', '', ''), ('1979', '', ''), ('1980', '', ''), ('1981', '23.7', ''), ('1982', '26.3', '10.9'), ('1983', '28.9', '10'), ('1984', '31.4', '8.6'), ('1985', '32.5', '3.5'), ('1986', '33.6', '3.8'), ('1987', '35.5', '5.7'), ('1988', '38.3', '7.8'), ('1989', '42.2', '10.3'), ('1990', '46.6', '10.2'), ('1991', '51.8', '11.6'), ('1992', '56.8', '9.6'), ('1993', '61.8', '8.8'), ('1994', '67.2', '8.8'), ('1995', '73.3', '9.1'), ('1996', '77.9', '6.3'), ('1997', '82.4', '5.8'), ('1998', '84.8', '2.8'), ('1999', '81.4', '-4'), ('2000', '78.4', '-3.8'), ('2001', '77.1', '-1.6'), ('2002', '74.8', '-3'), ('2003', '72.8', '-2.6'), ('2004', '72.6', '-0.4'), ('2005', '73.2', '1'), ('2006', '74.7', '2'), ('2007', '76.2', '2'), ('2008', '79.5', '4.3'), ('2009', '80', '0.5'), ('2010', '81.8', '2.4'), ('2011', '86.1', '5.3'), ('2012', '89.6', '4.1'), ('2013', '93.5', '4.3'), ('2014', '97.7', '4.4'), ('2015', '100.6', '3'), ('2016', '103', '2.4'), ('2017', '104.5', '1.5'), ('2018', '107', '2.4'), ('2019', '110.1', '2.9'))\n"
     ]
    }
   ],
   "source": [
    "# CPI Data\n",
    "\n",
    "cpiDataQuery = cursor.execute(\"SELECT * FROM `censtats_cpi_data`;\")\n",
    "\n",
    "cpiDataQuery = cursor.fetchall()\n",
    "\n",
    "print(cpiDataQuery)"
   ]
  },
  {
   "cell_type": "markdown",
   "metadata": {},
   "source": [
    "## House Prices\n",
    "\n",
    "Below charts the price averages per square foot for bought housing across Grades A to E housing properties on the market."
   ]
  },
  {
   "cell_type": "markdown",
   "metadata": {},
   "source": [
    "## Rent Prices\n",
    "\n",
    "Below charts the price averages per square foot for rentals across Grades A to E housing properties on the market:"
   ]
  },
  {
   "cell_type": "markdown",
   "metadata": {},
   "source": [
    "## Monthly Salaries\n",
    "\n",
    "The monthly salaries below are in a table representing the monthly salaries for the past five years."
   ]
  },
  {
   "cell_type": "code",
   "execution_count": 3,
   "metadata": {},
   "outputs": [],
   "source": [
    "## Unemployment rate"
   ]
  },
  {
   "cell_type": "markdown",
   "metadata": {},
   "source": [
    "## Hang Seng Index vs Price Index vs Rent Index\n",
    "\n",
    "The Hang Seng Index "
   ]
  },
  {
   "cell_type": "markdown",
   "metadata": {},
   "source": [
    "## Conclusion"
   ]
  },
  {
   "cell_type": "code",
   "execution_count": null,
   "metadata": {},
   "outputs": [],
   "source": []
  }
 ],
 "metadata": {
  "kernelspec": {
   "display_name": "Python 3",
   "language": "python",
   "name": "python3"
  },
  "language_info": {
   "codemirror_mode": {
    "name": "ipython",
    "version": 3
   },
   "file_extension": ".py",
   "mimetype": "text/x-python",
   "name": "python",
   "nbconvert_exporter": "python",
   "pygments_lexer": "ipython3",
   "version": "3.7.6"
  }
 },
 "nbformat": 4,
 "nbformat_minor": 4
}
