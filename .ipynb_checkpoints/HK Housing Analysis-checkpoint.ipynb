{
 "cells": [
  {
   "cell_type": "markdown",
   "metadata": {},
   "source": [
    "# HK Housing Analysis"
   ]
  },
  {
   "cell_type": "markdown",
   "metadata": {},
   "source": [
    "## Introduction\n",
    "\n",
    "Hong Kong is home to one of the most expensive housing markets in the world. "
   ]
  },
  {
   "cell_type": "markdown",
   "metadata": {},
   "source": [
    "## Data Sources\n",
    "- [Hong Kong Monetary Authority (HKMA)](https://www.hkma.gov.hk/)\n",
    "- [Ratings and Valuation Department (RVD)](https://www.rvd.gov.hk/)\n",
    "- [Census and Statistics Department (Censtatd)](https://www.censtatd.gov.hk/home.html)"
   ]
  },
  {
   "cell_type": "code",
   "execution_count": 52,
   "metadata": {},
   "outputs": [],
   "source": [
    "# Prerequisites\n",
    "import pandas as panda\n",
    "import pymysql\n",
    "import matplotlib.pyplot as plot\n",
    "\n",
    "# Create database connection\n",
    "host = \"localhost\";\n",
    "database = \"hkhousinganalysis\";\n",
    "username = \"root\";\n",
    "password = \"\";\n",
    "\n",
    "connection = pymysql.connect(host=host, user=username, password=password, db=database)\n",
    "\n",
    "cursor = connection.cursor()"
   ]
  },
  {
   "cell_type": "markdown",
   "metadata": {},
   "source": [
    "## Consumer Price Index Performance\n",
    "\n",
    "Below charts the CPI performance in Hong Kong."
   ]
  },
  {
   "cell_type": "code",
   "execution_count": 55,
   "metadata": {
    "scrolled": true
   },
   "outputs": [
    {
     "data": {
      "image/png": "[encoded data removed]",
      "text/plain": [
       "<Figure size 432x288 with 1 Axes>"
      ]
     },
     "metadata": {
      "needs_background": "light"
     },
     "output_type": "display_data"
    }
   ],
   "source": [
    "# CPI Data\n",
    "\n",
    "cpiDataQuery = cursor.execute(\"SELECT `year`, `cpi` FROM `censtats_cpi_data`;\")\n",
    "\n",
    "cpiDataQuery = cursor.fetchall()\n",
    "\n",
    "cpiDF = panda.DataFrame(cpiDataQuery)\n",
    "\n",
    "yearToNum = []\n",
    "\n",
    "cpiToNum = []\n",
    "\n",
    "for row in cpiDF.iloc(0):\n",
    "    if str(row[1]) != \"\":\n",
    "        yearToNum.append(int(row[0]))\n",
    "        cpiToNum.append(float(row[1]))\n",
    "        \n",
    "plot.plot(yearToNum, cpiToNum)\n",
    "plot.title(\"Yearly CPI Performance\")\n",
    "plot.xlabel(\"Year\")\n",
    "plot.ylabel(\"CPI\")\n",
    "plot.show()\n"
   ]
  },
  {
   "cell_type": "markdown",
   "metadata": {},
   "source": [
    "## House Prices\n",
    "\n",
    "Below charts the price averages per square foot for bought housing across Grades A to E housing properties on the market."
   ]
  },
  {
   "cell_type": "markdown",
   "metadata": {},
   "source": [
    "## Rent Prices\n",
    "\n",
    "Below charts the price averages per square foot for rentals across Grades A to E housing properties on the market:"
   ]
  },
  {
   "cell_type": "markdown",
   "metadata": {},
   "source": [
    "## Monthly Salaries\n",
    "\n",
    "The monthly salaries below are in a table representing the monthly salaries for the past five years."
   ]
  },
  {
   "cell_type": "code",
   "execution_count": 3,
   "metadata": {},
   "outputs": [],
   "source": [
    "## Unemployment rate"
   ]
  },
  {
   "cell_type": "markdown",
   "metadata": {},
   "source": [
    "## Hang Seng Index vs Price Index vs Rent Index\n",
    "\n",
    "The Hang Seng Index "
   ]
  },
  {
   "cell_type": "markdown",
   "metadata": {},
   "source": [
    "## Conclusion"
   ]
  },
  {
   "cell_type": "code",
   "execution_count": null,
   "metadata": {},
   "outputs": [],
   "source": []
  }
 ],
 "metadata": {
  "kernelspec": {
   "display_name": "Python 3",
   "language": "python",
   "name": "python3"
  },
  "language_info": {
   "codemirror_mode": {
    "name": "ipython",
    "version": 3
   },
   "file_extension": ".py",
   "mimetype": "text/x-python",
   "name": "python",
   "nbconvert_exporter": "python",
   "pygments_lexer": "ipython3",
   "version": "3.7.6"
  }
 },
 "nbformat": 4,
 "nbformat_minor": 4
}
